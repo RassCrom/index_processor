{
 "cells": [
  {
   "cell_type": "code",
   "execution_count": 3,
   "id": "5004bc4a-d70c-4813-a51e-2178d4e907d3",
   "metadata": {},
   "outputs": [],
   "source": [
    "import rasterio\n",
    "from rasterio import plot\n",
    "import matplotlib.pyplot as plt\n",
    "from osgeo import gdal, ogr\n",
    "import numpy as np\n",
    "import os\n",
    "import sys\n",
    "import geopandas as gp\n",
    "from rasterio.plot import show\n",
    "import osgeo.osr as osr"
   ]
  },
  {
   "cell_type": "code",
   "execution_count": 6,
   "id": "75dcacbc-54d8-47a8-a511-24d69db4ba61",
   "metadata": {},
   "outputs": [],
   "source": [
    "# Function to get info from html's forms\n",
    "def get_ndwi(green, nir, res):\n",
    "\n",
    "    dst_crs = 'EPSG:3857'\n",
    "    # To specife the main folders\n",
    "    # a = os.listdir(r\"C:/Users/rkoen/OneDrive/Документы/Cartometria/clipped\" + r\"/green_one\")\n",
    "    # b = os.listdir(r\"C:/Users/rkoen/OneDrive/Документы/Cartometria/clipped\" + r\"/nir_one\")\n",
    "    path1 = green + \"/\"\n",
    "    path2 = nir + \"/\"\n",
    "    a = os.listdir(path1)\n",
    "    b = os.listdir(path2)\n",
    "\n",
    "    for i, y in zip(a, b):\n",
    "\n",
    "        # Reading images\n",
    "        # band3 = rasterio.open(path1 + i)\n",
    "        # band5 = rasterio.open(path2 + y)\n",
    "        ds_band3 = gdal.Open(path1 + i)\n",
    "        ds_band5 = gdal.Open(path2 + y)\n",
    "        \n",
    "        dsReprj_3 = gdal.Warp(res + '/reprjct_' + i[13:27] + '_' + i[-6:], ds_band3, dstSRS=dst_crs)\n",
    "        name_3 = res + '/reprjct_' + i[13:27] + '_' + i[-6:]\n",
    "        dsReprj_5 = gdal.Warp(res + '/reprjct_' + y[13:27] + '_' + y[-6:], ds_band5, dstSRS=dst_crs)\n",
    "        name_5 = res + '/reprjct_' + y[13:27] + '_' + y[-6:]\n",
    "        \n",
    "        band3 = rasterio.open(name_3)\n",
    "        band5 = rasterio.open(name_5)\n",
    "        \n",
    "        # band3 = rasterio.open(r\"C:/Users/rkoen/OneDrive/Документы/Cartometria/clipped/green_one/\" + i)\n",
    "        # band5 = rasterio.open(r\"C:/Users/rkoen/OneDrive/Документы/Cartometria/clipped/nir_one/\" + y)\n",
    "#         green = band3.read(1).astype('float64')\n",
    "#         nir = band5.read(1).astype('float64')\n",
    "\n",
    "\n",
    "#         # Calculating NDWI\n",
    "#         ndwi = np.where(\n",
    "#             (green - nir)==0., \n",
    "#             0, \n",
    "#         (green-nir)/(green + nir))\n",
    "#         ndwi[:5,:5]\n",
    "        \n",
    "#         # Saving NDWI\n",
    "#         ndwiImage = rasterio.open(res + '/ndwi_' + i,'w',driver='Gtiff',\n",
    "#                             width=band3.width, \n",
    "#                             height = band3.height, \n",
    "#                             count=1, \n",
    "#                             crs=band3.crs, \n",
    "#                             transform=band3.transform, \n",
    "#                             dtype='float64')\n",
    "#         ndwiImage.write(ndwi,1)\n",
    "#         ndwiImage.close()\n",
    "        \n",
    "#         #Classyfing Index (Selecting only water objects >0.4)\n",
    "#         raster = rasterio.open(res + '/ndwi_' + i)\n",
    "#         raster_r = raster.read()\n",
    "#         lista = raster_r.copy()\n",
    "#         lista[np.where(lista >= 0.4)] = 1\n",
    "#         lista[np.where(lista < 0.4)] = 0\n",
    "#         with rasterio.open(res + '/ndwi_' + i + '_class' + '.TIF', 'w',\n",
    "#                            driver=raster.driver,\n",
    "#                            height=raster.height,\n",
    "#                            width=raster.width,\n",
    "#                            count=raster.count,\n",
    "#                            crs=raster.crs,\n",
    "#                            transform=raster.transform,\n",
    "#                            dtype=rasterio.float64\n",
    "#                           ) as dst:\n",
    "#             dst.write(lista)\n",
    "        \n",
    "#         #Vectorize image\n",
    "#         b = gdal.Open(res + '/ndwi_' + i + '_class' + '.TIF')\n",
    "#         b.RasterCount\n",
    "#         d = b.GetRasterBand(1) \n",
    "#         print(b.RasterCount)\n",
    "#         drv = ogr.GetDriverByName('ESRI Shapefile')\n",
    "#         outfile = drv.CreateDataSource(res + '/ndwi_' + i + '_class' + '.shp') \n",
    "#         outlayer = outfile.CreateLayer('polygonized raster', srs = None )\n",
    "#         newField = ogr.FieldDefn('Water', ogr.OFTReal)\n",
    "#         outlayer.CreateField(newField)\n",
    "#         gdal.Polygonize(d, None, outlayer, 0, [])\n",
    "#         outfile = None\n",
    "        \n",
    "#         #Querying only vector water objects\n",
    "#         vec_crs = gp.read_file(res + '/ndwi_' + i + '_class' + '.shp')\n",
    "#         vec_crs = vec_crs.set_crs(epsg=3857)\n",
    "#         vec3 = vec_crs[vec_crs[\"Water\"].isin([1])]\n",
    "#         vec3 = vec3.set_crs(epsg=3857)\n",
    "#         vec3.to_file(res + '/ndwi_' + i + '_class_selected' + '.shp')                   \n",
    "                           \n",
    "\n",
    "        "
   ]
  },
  {
   "cell_type": "code",
   "execution_count": 7,
   "id": "ab908f18-d351-4825-a345-b46ddb8331ee",
   "metadata": {},
   "outputs": [],
   "source": [
    "get_ndwi(r'C:\\Users\\karasu\\earth-analytics\\data\\green', r'C:\\Users\\karasu\\earth-analytics\\data\\nir', 'D:/diplom/data_process')"
   ]
  },
  {
   "cell_type": "code",
   "execution_count": 4,
   "id": "6fe6e7bd-8c57-40f5-9d3b-6f454ff1ae42",
   "metadata": {},
   "outputs": [],
   "source": [
    "vec = gp.read_file(r'C:\\Users\\karasu\\Downloads\\polygonized (1).shp')"
   ]
  },
  {
   "cell_type": "code",
   "execution_count": 16,
   "id": "8dc70e1f-bd42-4a0c-a15f-baccfe0e70d8",
   "metadata": {
    "tags": []
   },
   "outputs": [
    {
     "name": "stdout",
     "output_type": "stream",
     "text": [
      "<class 'geopandas.geodataframe.GeoDataFrame'>\n",
      "RangeIndex: 1899 entries, 0 to 1898\n",
      "Data columns (total 2 columns):\n",
      " #   Column    Non-Null Count  Dtype   \n",
      "---  ------    --------------  -----   \n",
      " 0   MYFLD     1899 non-null   int64   \n",
      " 1   geometry  1899 non-null   geometry\n",
      "dtypes: geometry(1), int64(1)\n",
      "memory usage: 29.8 KB\n",
      "EPSG:32643\n"
     ]
    },
    {
     "ename": "TypeError",
     "evalue": "in method 'DataSource_CreateLayer', argument 3 of type 'OSRSpatialReferenceShadow *'",
     "output_type": "error",
     "traceback": [
      "\u001b[1;31m---------------------------------------------------------------------------\u001b[0m",
      "\u001b[1;31mTypeError\u001b[0m                                 Traceback (most recent call last)",
      "Input \u001b[1;32mIn [16]\u001b[0m, in \u001b[0;36m<cell line: 18>\u001b[1;34m()\u001b[0m\n\u001b[0;32m     16\u001b[0m     driver\u001b[38;5;241m.\u001b[39mDeleteDataSource(outShapefile\u001b[38;5;241m+\u001b[39m\u001b[38;5;124m\"\u001b[39m\u001b[38;5;124m.shp\u001b[39m\u001b[38;5;124m\"\u001b[39m)\n\u001b[0;32m     17\u001b[0m outDatasource \u001b[38;5;241m=\u001b[39m driver\u001b[38;5;241m.\u001b[39mCreateDataSource(outShapefile\u001b[38;5;241m+\u001b[39m \u001b[38;5;124m\"\u001b[39m\u001b[38;5;124m.shp\u001b[39m\u001b[38;5;124m\"\u001b[39m)\n\u001b[1;32m---> 18\u001b[0m outLayer \u001b[38;5;241m=\u001b[39m \u001b[43moutDatasource\u001b[49m\u001b[38;5;241;43m.\u001b[39;49m\u001b[43mCreateLayer\u001b[49m\u001b[43m(\u001b[49m\u001b[38;5;124;43m\"\u001b[39;49m\u001b[38;5;124;43mpolygonized\u001b[39;49m\u001b[38;5;124;43m\"\u001b[39;49m\u001b[43m,\u001b[49m\u001b[43m \u001b[49m\u001b[43msrs\u001b[49m\u001b[38;5;241;43m=\u001b[39;49m\u001b[38;5;124;43m'\u001b[39;49m\u001b[38;5;124;43mEPSG:32643\u001b[39;49m\u001b[38;5;124;43m'\u001b[39;49m\u001b[43m)\u001b[49m\n\u001b[0;32m     19\u001b[0m newField \u001b[38;5;241m=\u001b[39m ogr\u001b[38;5;241m.\u001b[39mFieldDefn(\u001b[38;5;124m'\u001b[39m\u001b[38;5;124mDN\u001b[39m\u001b[38;5;124m'\u001b[39m, ogr\u001b[38;5;241m.\u001b[39mOFTInteger)\n\u001b[0;32m     20\u001b[0m outLayer\u001b[38;5;241m.\u001b[39mCreateField(newField)\n",
      "File \u001b[1;32m~\\AppData\\Local\\Programs\\Python\\Python310\\lib\\site-packages\\osgeo\\ogr.py:733\u001b[0m, in \u001b[0;36mDataSource.CreateLayer\u001b[1;34m(self, *args, **kwargs)\u001b[0m\n\u001b[0;32m    692\u001b[0m \u001b[38;5;28;01mdef\u001b[39;00m \u001b[38;5;21mCreateLayer\u001b[39m(\u001b[38;5;28mself\u001b[39m, \u001b[38;5;241m*\u001b[39margs, \u001b[38;5;241m*\u001b[39m\u001b[38;5;241m*\u001b[39mkwargs):\n\u001b[0;32m    693\u001b[0m     \u001b[38;5;124mr\u001b[39m\u001b[38;5;124;03m\"\"\"\u001b[39;00m\n\u001b[0;32m    694\u001b[0m \u001b[38;5;124;03m    CreateLayer(DataSource self, char const * name, SpatialReference srs=None, OGRwkbGeometryType geom_type=wkbUnknown, char ** options=None) -> Layer\u001b[39;00m\n\u001b[0;32m    695\u001b[0m \u001b[38;5;124;03m    OGRLayerH\u001b[39;00m\n\u001b[1;32m   (...)\u001b[0m\n\u001b[0;32m    731\u001b[0m \u001b[38;5;124;03m    Example: \u001b[39;00m\n\u001b[0;32m    732\u001b[0m \u001b[38;5;124;03m    \"\"\"\u001b[39;00m\n\u001b[1;32m--> 733\u001b[0m     \u001b[38;5;28;01mreturn\u001b[39;00m _ogr\u001b[38;5;241m.\u001b[39mDataSource_CreateLayer(\u001b[38;5;28mself\u001b[39m, \u001b[38;5;241m*\u001b[39margs, \u001b[38;5;241m*\u001b[39m\u001b[38;5;241m*\u001b[39mkwargs)\n",
      "\u001b[1;31mTypeError\u001b[0m: in method 'DataSource_CreateLayer', argument 3 of type 'OSRSpatialReferenceShadow *'"
     ]
    },
    {
     "data": {
      "image/png": "[encoded data removed]",
      "text/plain": [
       "<Figure size 432x288 with 1 Axes>"
      ]
     },
     "metadata": {
      "needs_background": "light"
     },
     "output_type": "display_data"
    },
    {
     "data": {
      "image/png": "[encoded data removed]",
      "text/plain": [
       "<Figure size 432x288 with 1 Axes>"
      ]
     },
     "metadata": {
      "needs_background": "light"
     },
     "output_type": "display_data"
    }
   ],
   "source": [
    "vec.info()\n",
    "vec.plot()\n",
    "new_vec = vec[vec['MYFLD'].isin([1])]\n",
    "new_vec.plot()\n",
    "\n",
    "c = rasterio.open(r'C:\\Users\\karasu\\earth-analytics\\data\\reclass.TIF')\n",
    "cr = c.crs\n",
    "print(cr)\n",
    "\n",
    "sourceRaster = gdal.Open(r'C:\\Users\\karasu\\earth-analytics\\data\\ndwi_vl_04.tif')\n",
    "band = sourceRaster.GetRasterBand(1)\n",
    "bandArray = band.ReadAsArray()\n",
    "outShapefile = r\"C:\\Users\\karasu\\earth-analytics\\data\\polygonized2\"\n",
    "driver = ogr.GetDriverByName(\"ESRI Shapefile\")\n",
    "if os.path.exists(outShapefile+\".shp\"):\n",
    "    driver.DeleteDataSource(outShapefile+\".shp\")\n",
    "outDatasource = driver.CreateDataSource(outShapefile+ \".shp\")\n",
    "outLayer = outDatasource.CreateLayer(\"polygonized\", srs='EPSG:32643')\n",
    "newField = ogr.FieldDefn('DN', ogr.OFTInteger)\n",
    "outLayer.CreateField(newField)\n",
    "gdal.Polygonize( band, None, outLayer, 0, [], callback=None )\n",
    "outDatasource.Destroy()\n",
    "sourceRaster = None"
   ]
  },
  {
   "cell_type": "code",
   "execution_count": 5,
   "id": "e408435e-fc41-49f0-aade-d3cd1682e5db",
   "metadata": {},
   "outputs": [
    {
     "name": "stderr",
     "output_type": "stream",
     "text": [
      "C:\\Users\\karasu\\AppData\\Local\\Programs\\Python\\Python310\\lib\\site-packages\\geopandas\\io\\file.py:362: FutureWarning: pandas.Int64Index is deprecated and will be removed from pandas in a future version. Use pandas.Index with the appropriate dtype instead.\n",
      "  pd.Int64Index,\n"
     ]
    },
    {
     "data": {
      "image/png": "[encoded data removed]",
      "text/plain": [
       "<Figure size 432x288 with 1 Axes>"
      ]
     },
     "metadata": {
      "needs_background": "light"
     },
     "output_type": "display_data"
    },
    {
     "data": {
      "image/png": "[encoded data removed]",
      "text/plain": [
       "<Figure size 432x288 with 1 Axes>"
      ]
     },
     "metadata": {
      "needs_background": "light"
     },
     "output_type": "display_data"
    }
   ],
   "source": [
    "vec2 = gp.read_file(r\"C:\\Users\\karasu\\earth-analytics\\data\\polygonized2.shp\")\n",
    "vec3 = vec2[vec2[\"DN\"].isin([1])]\n",
    "vec2.plot()\n",
    "vec3.plot()\n",
    "vec3.to_file(r'C:\\Users\\karasu\\earth-analytics\\data\\test.json')"
   ]
  },
  {
   "cell_type": "code",
   "execution_count": 9,
   "id": "f0cc8173-4140-45f1-abd5-3d0ca8bd9a86",
   "metadata": {},
   "outputs": [],
   "source": [
    "rf = r'C:\\Users\\karasu\\earth-analytics\\data\\ndwi_RT_LC08_L1TP_154023_20200913_20200920_01_T1_2020-09-13_B3.TIF'\n",
    "raster = rasterio.open(rf)\n",
    "raster_r = raster.read()\n",
    "lista = raster_r.copy()\n",
    "lista[np.where(lista >= 0.4)] = 1\n",
    "lista[np.where(lista < 0.4)] = 0\n",
    "with rasterio.open(r'C:\\Users\\karasu\\earth-analytics\\data\\reclass_2.TIF', 'w',\n",
    "                   driver=raster.driver,\n",
    "                   height=raster.height,\n",
    "                   width=raster.width,\n",
    "                   count=raster.count,\n",
    "                   crs='EPSG:3857',\n",
    "                   transform=raster.transform,\n",
    "                   dtype=rasterio.float64\n",
    "                  ) as dst:\n",
    "    dst.write(lista)"
   ]
  },
  {
   "cell_type": "code",
   "execution_count": 14,
   "id": "ac92e126-f408-4052-8c06-0fb94530ea4a",
   "metadata": {},
   "outputs": [
    {
     "name": "stdout",
     "output_type": "stream",
     "text": [
      "EPSG:32643\n"
     ]
    },
    {
     "data": {
      "text/plain": [
       "array([[65535., 65535., 65535., ..., 65535., 65535., 65535.],\n",
       "       [65535., 65535., 65535., ..., 65535., 65535., 65535.],\n",
       "       [65535., 65535., 65535., ..., 65535., 65535., 65535.],\n",
       "       ...,\n",
       "       [65535., 65535., 65535., ..., 65535., 65535., 65535.],\n",
       "       [65535., 65535., 65535., ..., 65535., 65535., 65535.],\n",
       "       [65535., 65535., 65535., ..., 65535., 65535., 65535.]])"
      ]
     },
     "execution_count": 14,
     "metadata": {},
     "output_type": "execute_result"
    }
   ],
   "source": [
    "c = rasterio.open(r'C:\\Users\\karasu\\earth-analytics\\data\\reclass.TIF')\n",
    "print(c.crs)\n",
    "ds = gdal.Open(r'C:\\Users\\karasu\\earth-analytics\\data\\nir\\RT_LC08_L1TP_154023_20200913_20200920_01_T1_2020-09-13_B5.TIF')\n",
    "dsReprj = gdal.Warp(r'C:\\Users\\karasu\\earth-analytics\\data\\repr_2.TIF', ds, dstSRS='EPSG:3857')\n",
    "ds2 = rasterio.open(r'C:\\Users\\karasu\\earth-analytics\\data\\repr_2.TIF')\n",
    "ds2.read(1).astype('float64')"
   ]
  },
  {
   "cell_type": "code",
   "execution_count": 6,
   "id": "89b014fb-1934-49f4-94ce-6411e489a9f8",
   "metadata": {},
   "outputs": [
    {
     "name": "stderr",
     "output_type": "stream",
     "text": [
      "C:\\Users\\karasu\\AppData\\Local\\Programs\\Python\\Python310\\lib\\site-packages\\pyproj\\crs\\crs.py:131: FutureWarning: '+init=<authority>:<code>' syntax is deprecated. '<authority>:<code>' is the preferred initialization method. When making the change, be mindful of axis order changes: https://pyproj4.github.io/pyproj/stable/gotchas.html#axis-order-changes-in-proj-6\n",
      "  in_crs_string = _prepare_from_proj_string(in_crs_string)\n"
     ]
    },
    {
     "name": "stdout",
     "output_type": "stream",
     "text": [
      "EPSG:32643\n"
     ]
    },
    {
     "data": {
      "image/png": "[encoded data removed]",
      "text/plain": [
       "<Figure size 432x288 with 1 Axes>"
      ]
     },
     "metadata": {
      "needs_background": "light"
     },
     "output_type": "display_data"
    }
   ],
   "source": [
    "vec = gp.read_file(r'C:\\Users\\karasu\\Downloads\\polygonized (1).shp')\n",
    "vec.crs = {'init' :'epsg:32643'}\n",
    "new_vec = vec[vec['MYFLD'].isin([1])]\n",
    "new_vec.plot()\n",
    "c = rasterio.open(r'C:\\Users\\karasu\\earth-analytics\\data\\reclass.TIF')\n",
    "cr = c.crs\n",
    "print(cr)\n",
    "\n",
    "# sourceRaster = gdal.Open(r'C:\\Users\\karasu\\earth-analytics\\data\\ndwi_vl_04.tif')C:\\Users\\karasu\\earth-analytics\\data\\reclass.TIF\n",
    "sourceRaster = gdal.Open(r'C:\\Users\\karasu\\earth-analytics\\data\\reclass.TIF')\n",
    "band = sourceRaster.GetRasterBand(1)\n",
    "bandArray = band.ReadAsArray()\n",
    "outShapefile = r\"C:\\Users\\karasu\\earth-analytics\\data\\polygonized2\"\n",
    "driver = ogr.GetDriverByName(\"ESRI Shapefile\")\n",
    "if os.path.exists(outShapefile+\".shp\"):\n",
    "    driver.DeleteDataSource(outShapefile+\".shp\")\n",
    "outDatasource = driver.CreateDataSource(outShapefile+ \".shp\")\n",
    "outLayer = outDatasource.CreateLayer(\"polygonized\", srs=None)\n",
    "newField = ogr.FieldDefn('DN', ogr.OFTInteger)\n",
    "outLayer.CreateField(newField)\n",
    "polig = gdal.Polygonize( band, None, outLayer, 0, [], callback=None )\n",
    "outDatasource.Destroy()\n",
    "sourceRaster = None\n"
   ]
  },
  {
   "cell_type": "code",
   "execution_count": 18,
   "id": "0315cc97-08f2-42c0-82f4-a38e777859fe",
   "metadata": {},
   "outputs": [
    {
     "name": "stdout",
     "output_type": "stream",
     "text": [
      "+init=epsg:32643 +type=crs\n"
     ]
    }
   ],
   "source": [
    "vec.crs = {'init' :'epsg:32643'}\n",
    "print(vec.crs)"
   ]
  },
  {
   "cell_type": "code",
   "execution_count": 5,
   "id": "563f4d4c-79a4-45f1-98a7-d99abb66a2cc",
   "metadata": {},
   "outputs": [
    {
     "name": "stdout",
     "output_type": "stream",
     "text": [
      "1\n"
     ]
    }
   ],
   "source": [
    "b = gdal.Open(r'C:\\Users\\karasu\\earth-analytics\\data\\reclass.TIF')\n",
    "b.RasterCount\n",
    "d = b.GetRasterBand(1) \n",
    "print(b.RasterCount)\n",
    "drv = ogr.GetDriverByName('ESRI Shapefile')\n",
    "outfile = drv.CreateDataSource(r'C:\\Users\\karasu\\earth-analytics\\data\\polygonizedRaster2.shp') \n",
    "outlayer = outfile.CreateLayer('polygonized raster', srs = None )\n",
    "newField = ogr.FieldDefn('DN', ogr.OFTReal)\n",
    "outlayer.CreateField(newField)\n",
    "gdal.Polygonize(d, None, outlayer, 0, [])\n",
    "outfile = None"
   ]
  },
  {
   "cell_type": "code",
   "execution_count": 39,
   "id": "ef293d3a-1b20-40b6-b072-ce1edcc8c509",
   "metadata": {},
   "outputs": [
    {
     "name": "stdout",
     "output_type": "stream",
     "text": [
      "epsg:32643\n"
     ]
    },
    {
     "name": "stderr",
     "output_type": "stream",
     "text": [
      "C:\\Users\\karasu\\AppData\\Local\\Programs\\Python\\Python310\\lib\\site-packages\\geopandas\\io\\file.py:362: FutureWarning: pandas.Int64Index is deprecated and will be removed from pandas in a future version. Use pandas.Index with the appropriate dtype instead.\n",
      "  pd.Int64Index,\n"
     ]
    }
   ],
   "source": [
    "vec_crs = gp.read_file(r'C:\\Users\\karasu\\earth-analytics\\data\\polygonizedRaster.shp')\n",
    "vec_crs = vec_crs.set_crs(epsg=32643)\n",
    "print(vec_crs.crs)\n",
    "vec_crs.to_file(r'C:\\Users\\karasu\\earth-analytics\\data\\test_crs_3.geojson', driver='GeoJSON')"
   ]
  },
  {
   "cell_type": "code",
   "execution_count": 7,
   "id": "10f9fee0-9fb5-426f-aa74-79e8b3591298",
   "metadata": {},
   "outputs": [
    {
     "name": "stdout",
     "output_type": "stream",
     "text": [
      "EPSG:32643\n"
     ]
    }
   ],
   "source": [
    "c = rasterio.open(r'C:\\Users\\karasu\\earth-analytics\\data\\reclass.TIF')\n",
    "print(c.crs)"
   ]
  },
  {
   "cell_type": "code",
   "execution_count": 17,
   "id": "175eac5e-320b-46d5-a43e-4cae6f2afce6",
   "metadata": {},
   "outputs": [
    {
     "name": "stdout",
     "output_type": "stream",
     "text": [
      "RT_LC08_L1TP_154023_20200913_20200920_01_T1_2020-09-13_B3.TIF\n",
      "RT_LC08_L1TP_154024_20200913_20200920_01_T1_2020-09-13_B3.TIF\n",
      "RT_LC08_L1TP_154025_20200913_20200920_01_T1_2020-09-13_B3.TIF\n",
      "RT_LC08_L1TP_155023_20190716_20190721_01_T1_2019-07-16_B3.TIF\n",
      "RT_LC08_L1TP_155024_20190716_20190721_01_T1_2019-07-16_B3.TIF\n",
      "RT_LC08_L1TP_155025_20200531_20200608_01_T1_2020-05-31_B3.TIF\n",
      "RT_LC08_L1TP_156023_20180704_20180717_01_T1_2018-07-04_B3.TIF\n",
      "RT_LC08_L1TP_156024_20180704_20180717_01_T1_2018-07-04_B3.TIF\n",
      "RT_LC08_L1TP_156025_20180704_20180717_01_T1_2018-07-04_B3.TIF\n",
      "RT_LC08_L1TP_157023_20200902_20200906_01_T1_2020-09-02_B3.TIF\n",
      "RT_LC08_L1TP_157024_20200902_20200906_01_T1_2020-09-02_B3.TIF\n",
      "RT_LC08_L1TP_157025_20200902_20200906_01_T1_2020-09-02_B3.TIF\n",
      "RT_LC08_L1TP_158024_20200909_20200918_01_T1_2020-09-09_B3.TIF\n",
      "RT_LC08_L1TP_158025_20200621_20200707_01_T1_2020-06-21_B3.TIF\n",
      "RT_LC08_L1TP_159024_20200714_20200722_01_T1_2020-07-14_B3.TIF\n"
     ]
    }
   ],
   "source": [
    "def get_ndwi(green, nir, res):\n",
    "\n",
    "    dst_crs = 'EPSG:3857'\n",
    "    # To specife the main folders\n",
    "    # a = os.listdir(r\"C:/Users/rkoen/OneDrive/Документы/Cartometria/clipped\" + r\"/green_one\")\n",
    "    # b = os.listdir(r\"C:/Users/rkoen/OneDrive/Документы/Cartometria/clipped\" + r\"/nir_one\")\n",
    "    path1 = green + \"/\"\n",
    "    path2 = nir + \"/\"\n",
    "    a = os.listdir(path1)\n",
    "    b = os.listdir(path2)\n",
    "\n",
    "    for i, y in zip(a, b):\n",
    "        print(i)\n",
    "        \n",
    "get_ndwi(r'D:\\diplom\\data\\green', r'D:\\diplom\\data\\nir', 'D:/diplom/data_process')"
   ]
  },
  {
   "cell_type": "code",
   "execution_count": null,
   "id": "6cf005e7-fd25-4e57-9b54-2e629c20c9e0",
   "metadata": {},
   "outputs": [],
   "source": []
  }
 ],
 "metadata": {
  "kernelspec": {
   "display_name": "Python 3 (ipykernel)",
   "language": "python",
   "name": "python3"
  },
  "language_info": {
   "codemirror_mode": {
    "name": "ipython",
    "version": 3
   },
   "file_extension": ".py",
   "mimetype": "text/x-python",
   "name": "python",
   "nbconvert_exporter": "python",
   "pygments_lexer": "ipython3",
   "version": "3.10.4"
  }
 },
 "nbformat": 4,
 "nbformat_minor": 5
}
