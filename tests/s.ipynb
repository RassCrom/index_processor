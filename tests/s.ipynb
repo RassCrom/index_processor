{
 "cells": [
  {
   "cell_type": "code",
   "execution_count": 11,
   "id": "5c3d2f2a-f0d3-437b-a313-f7474473f4ac",
   "metadata": {},
   "outputs": [],
   "source": [
    "import os\n",
    "from glob import glob\n",
    "import numpy as np\n",
    "import matplotlib.pyplot as plt\n",
    "from matplotlib.colors import ListedColormap\n",
    "import earthpy as et\n",
    "import earthpy.spatial as es\n",
    "import earthpy.plot as ep\n",
    "import rasterio"
   ]
  },
  {
   "cell_type": "code",
   "execution_count": 32,
   "id": "51e7fbec-cae2-4f66-be0c-68f075a4d923",
   "metadata": {},
   "outputs": [],
   "source": [
    "import rasterio\n",
    "from rasterio import plot\n",
    "import matplotlib.pyplot as plt\n",
    "from osgeo import gdal\n",
    "import numpy as np\n",
    "import os\n",
    "import sys\n",
    "# from PyQt5 import QtCore, QtGui, QtWidgets\n",
    "# from PyQt5.QtGui import QIcon\n",
    "# from ui import Ui_MainWindow\n",
    "\n",
    "# Calculating NDWI\n",
    "\n",
    "# Function to get info from html's forms\n",
    "def get_ndwi(green, nir, res):\n",
    "\n",
    "    dst_crs = 'EPSG:3857'\n",
    "    # To specife the main folders\n",
    "    # a = os.listdir(r\"C:/Users/rkoen/OneDrive/Документы/Cartometria/clipped\" + r\"/green_one\")\n",
    "    # b = os.listdir(r\"C:/Users/rkoen/OneDrive/Документы/Cartometria/clipped\" + r\"/nir_one\")\n",
    "    path1 = green + \"/\"\n",
    "    path2 = nir + \"/\"\n",
    "    a = os.listdir(path1)\n",
    "    b = os.listdir(path2)\n",
    "\n",
    "    for i, y in zip(a, b):\n",
    "\n",
    "        # Reading images\n",
    "        band3 = rasterio.open(path1 + i)\n",
    "        band5 = rasterio.open(path2 + y)\n",
    "        # band3 = rasterio.open(r\"C:/Users/rkoen/OneDrive/Документы/Cartometria/clipped/green_one/\" + i)\n",
    "        # band5 = rasterio.open(r\"C:/Users/rkoen/OneDrive/Документы/Cartometria/clipped/nir_one/\" + y)\n",
    "        green = band3.read(1).astype('float64')\n",
    "        nir = band5.read(1).astype('float64')\n",
    "\n",
    "\n",
    "        # Calculating NDWI\n",
    "        ndwi = np.where(\n",
    "            (green - nir)==0., \n",
    "            0, \n",
    "        (green-nir)/(green + nir))\n",
    "        ndwi[:5,:5]\n",
    "        \n",
    "       \n",
    "\n",
    "        # Saving NDWI\n",
    "        ndwiImage = rasterio.open(res + '/ndwi_' + i,'w',driver='Gtiff',\n",
    "                            width=band3.width, \n",
    "                            height = band3.height, \n",
    "                            count=1, crs=band3.crs, \n",
    "                            transform=band3.transform, \n",
    "                            dtype='float64')\n",
    "        ndwiImage.write(ndwi,1)\n",
    "        ndwiImage.close()\n",
    "        \n",
    "        \n",
    "        \n",
    "        # ds = gdal.Open(res + '/ndwi_' + i)\n",
    "        # array = ds.GetRasterBand(1).ReadAsArray()\n",
    "        # plt.imshow(array)\n",
    "        # plt.colorbar()"
   ]
  },
  {
   "cell_type": "code",
   "execution_count": 33,
   "id": "3d82329c-9a50-4dcf-bf3a-37e88b700c82",
   "metadata": {},
   "outputs": [
    {
     "ename": "CPLE_AppDefinedError",
     "evalue": "Deleting D:/diplom/data/ndwi_RT_LC08_L1TP_154023_20200913_20200920_01_T1_2020-09-13_B3.TIF failed: Permission denied",
     "output_type": "error",
     "traceback": [
      "\u001b[1;31m---------------------------------------------------------------------------\u001b[0m",
      "\u001b[1;31mCPLE_AppDefinedError\u001b[0m                      Traceback (most recent call last)",
      "Input \u001b[1;32mIn [33]\u001b[0m, in \u001b[0;36m<cell line: 1>\u001b[1;34m()\u001b[0m\n\u001b[1;32m----> 1\u001b[0m \u001b[43mget_ndwi\u001b[49m\u001b[43m(\u001b[49m\u001b[38;5;124;43m'\u001b[39;49m\u001b[38;5;124;43mC:/Users/karasu/earth-analytics/data/green\u001b[39;49m\u001b[38;5;124;43m'\u001b[39;49m\u001b[43m,\u001b[49m\u001b[43m \u001b[49m\u001b[38;5;124;43m'\u001b[39;49m\u001b[38;5;124;43mC:/Users/karasu/earth-analytics/data/nir\u001b[39;49m\u001b[38;5;124;43m'\u001b[39;49m\u001b[43m,\u001b[49m\u001b[43m \u001b[49m\u001b[38;5;124;43m'\u001b[39;49m\u001b[38;5;124;43mD:/diplom/data\u001b[39;49m\u001b[38;5;124;43m'\u001b[39;49m\u001b[43m)\u001b[49m\n",
      "Input \u001b[1;32mIn [32]\u001b[0m, in \u001b[0;36mget_ndwi\u001b[1;34m(green, nir, res)\u001b[0m\n\u001b[0;32m     82\u001b[0m plt\u001b[38;5;241m.\u001b[39mtight_layout()\n\u001b[0;32m     84\u001b[0m \u001b[38;5;66;03m# Saving NDWI\u001b[39;00m\n\u001b[1;32m---> 85\u001b[0m ndwiImage \u001b[38;5;241m=\u001b[39m \u001b[43mrasterio\u001b[49m\u001b[38;5;241;43m.\u001b[39;49m\u001b[43mopen\u001b[49m\u001b[43m(\u001b[49m\u001b[43mres\u001b[49m\u001b[43m \u001b[49m\u001b[38;5;241;43m+\u001b[39;49m\u001b[43m \u001b[49m\u001b[38;5;124;43m'\u001b[39;49m\u001b[38;5;124;43m/ndwi_\u001b[39;49m\u001b[38;5;124;43m'\u001b[39;49m\u001b[43m \u001b[49m\u001b[38;5;241;43m+\u001b[39;49m\u001b[43m \u001b[49m\u001b[43mi\u001b[49m\u001b[43m,\u001b[49m\u001b[38;5;124;43m'\u001b[39;49m\u001b[38;5;124;43mw\u001b[39;49m\u001b[38;5;124;43m'\u001b[39;49m\u001b[43m,\u001b[49m\u001b[43mdriver\u001b[49m\u001b[38;5;241;43m=\u001b[39;49m\u001b[38;5;124;43m'\u001b[39;49m\u001b[38;5;124;43mGtiff\u001b[39;49m\u001b[38;5;124;43m'\u001b[39;49m\u001b[43m,\u001b[49m\n\u001b[0;32m     86\u001b[0m \u001b[43m                    \u001b[49m\u001b[43mwidth\u001b[49m\u001b[38;5;241;43m=\u001b[39;49m\u001b[43mband3\u001b[49m\u001b[38;5;241;43m.\u001b[39;49m\u001b[43mwidth\u001b[49m\u001b[43m,\u001b[49m\u001b[43m \u001b[49m\n\u001b[0;32m     87\u001b[0m \u001b[43m                    \u001b[49m\u001b[43mheight\u001b[49m\u001b[43m \u001b[49m\u001b[38;5;241;43m=\u001b[39;49m\u001b[43m \u001b[49m\u001b[43mband3\u001b[49m\u001b[38;5;241;43m.\u001b[39;49m\u001b[43mheight\u001b[49m\u001b[43m,\u001b[49m\u001b[43m \u001b[49m\n\u001b[0;32m     88\u001b[0m \u001b[43m                    \u001b[49m\u001b[43mcount\u001b[49m\u001b[38;5;241;43m=\u001b[39;49m\u001b[38;5;241;43m1\u001b[39;49m\u001b[43m,\u001b[49m\u001b[43m \u001b[49m\u001b[43mcrs\u001b[49m\u001b[38;5;241;43m=\u001b[39;49m\u001b[43mband3\u001b[49m\u001b[38;5;241;43m.\u001b[39;49m\u001b[43mcrs\u001b[49m\u001b[43m,\u001b[49m\u001b[43m \u001b[49m\n\u001b[0;32m     89\u001b[0m \u001b[43m                    \u001b[49m\u001b[43mtransform\u001b[49m\u001b[38;5;241;43m=\u001b[39;49m\u001b[43mband3\u001b[49m\u001b[38;5;241;43m.\u001b[39;49m\u001b[43mtransform\u001b[49m\u001b[43m,\u001b[49m\u001b[43m \u001b[49m\n\u001b[0;32m     90\u001b[0m \u001b[43m                    \u001b[49m\u001b[43mdtype\u001b[49m\u001b[38;5;241;43m=\u001b[39;49m\u001b[38;5;124;43m'\u001b[39;49m\u001b[38;5;124;43mfloat64\u001b[39;49m\u001b[38;5;124;43m'\u001b[39;49m\u001b[43m)\u001b[49m\n\u001b[0;32m     91\u001b[0m ndwiImage\u001b[38;5;241m.\u001b[39mwrite(ndwi,\u001b[38;5;241m1\u001b[39m)\n\u001b[0;32m     92\u001b[0m ndwiImage\u001b[38;5;241m.\u001b[39mwrite(ndwi_masked,\u001b[38;5;241m5\u001b[39m)\n",
      "File \u001b[1;32m~\\AppData\\Local\\Programs\\Python\\Python310\\lib\\site-packages\\rasterio\\env.py:437\u001b[0m, in \u001b[0;36mensure_env_with_credentials.<locals>.wrapper\u001b[1;34m(*args, **kwds)\u001b[0m\n\u001b[0;32m    434\u001b[0m     session \u001b[38;5;241m=\u001b[39m DummySession()\n\u001b[0;32m    436\u001b[0m \u001b[38;5;28;01mwith\u001b[39;00m env_ctor(session\u001b[38;5;241m=\u001b[39msession):\n\u001b[1;32m--> 437\u001b[0m     \u001b[38;5;28;01mreturn\u001b[39;00m f(\u001b[38;5;241m*\u001b[39margs, \u001b[38;5;241m*\u001b[39m\u001b[38;5;241m*\u001b[39mkwds)\n",
      "File \u001b[1;32m~\\AppData\\Local\\Programs\\Python\\Python310\\lib\\site-packages\\rasterio\\__init__.py:238\u001b[0m, in \u001b[0;36mopen\u001b[1;34m(fp, mode, driver, width, height, count, crs, transform, dtype, nodata, sharing, **kwargs)\u001b[0m\n\u001b[0;32m    236\u001b[0m writer \u001b[38;5;241m=\u001b[39m get_writer_for_driver(driver)\n\u001b[0;32m    237\u001b[0m \u001b[38;5;28;01mif\u001b[39;00m writer \u001b[38;5;129;01mis\u001b[39;00m \u001b[38;5;129;01mnot\u001b[39;00m \u001b[38;5;28;01mNone\u001b[39;00m:\n\u001b[1;32m--> 238\u001b[0m     s \u001b[38;5;241m=\u001b[39m writer(path, mode, driver\u001b[38;5;241m=\u001b[39mdriver,\n\u001b[0;32m    239\u001b[0m                width\u001b[38;5;241m=\u001b[39mwidth, height\u001b[38;5;241m=\u001b[39mheight,\n\u001b[0;32m    240\u001b[0m                count\u001b[38;5;241m=\u001b[39mcount, crs\u001b[38;5;241m=\u001b[39mcrs,\n\u001b[0;32m    241\u001b[0m                transform\u001b[38;5;241m=\u001b[39mtransform,\n\u001b[0;32m    242\u001b[0m                dtype\u001b[38;5;241m=\u001b[39mdtype, nodata\u001b[38;5;241m=\u001b[39mnodata,\n\u001b[0;32m    243\u001b[0m                sharing\u001b[38;5;241m=\u001b[39msharing,\n\u001b[0;32m    244\u001b[0m                \u001b[38;5;241m*\u001b[39m\u001b[38;5;241m*\u001b[39mkwargs)\n\u001b[0;32m    245\u001b[0m \u001b[38;5;28;01melse\u001b[39;00m:\n\u001b[0;32m    246\u001b[0m     \u001b[38;5;28;01mraise\u001b[39;00m DriverCapabilityError(\n\u001b[0;32m    247\u001b[0m         \u001b[38;5;124m\"\u001b[39m\u001b[38;5;124mWriter does not exist for driver: \u001b[39m\u001b[38;5;132;01m%s\u001b[39;00m\u001b[38;5;124m\"\u001b[39m \u001b[38;5;241m%\u001b[39m \u001b[38;5;28mstr\u001b[39m(driver)\n\u001b[0;32m    248\u001b[0m     )\n",
      "File \u001b[1;32mrasterio\\_io.pyx:1122\u001b[0m, in \u001b[0;36mrasterio._io.DatasetWriterBase.__init__\u001b[1;34m()\u001b[0m\n",
      "File \u001b[1;32mrasterio\\_io.pyx:86\u001b[0m, in \u001b[0;36mrasterio._io._delete_dataset_if_exists\u001b[1;34m()\u001b[0m\n",
      "File \u001b[1;32mrasterio\\_err.pyx:193\u001b[0m, in \u001b[0;36mrasterio._err.exc_wrap_int\u001b[1;34m()\u001b[0m\n",
      "\u001b[1;31mCPLE_AppDefinedError\u001b[0m: Deleting D:/diplom/data/ndwi_RT_LC08_L1TP_154023_20200913_20200920_01_T1_2020-09-13_B3.TIF failed: Permission denied"
     ]
    },
    {
     "data": {
      "image/png": "[encoded data removed]",
      "text/plain": [
       "<Figure size 864x864 with 1 Axes>"
      ]
     },
     "metadata": {
      "needs_background": "light"
     },
     "output_type": "display_data"
    }
   ],
   "source": [
    "get_ndwi('C:/Users/karasu/earth-analytics/data/green', 'C:/Users/karasu/earth-analytics/data/nir', 'D:/diplom/data')"
   ]
  },
  {
   "cell_type": "code",
   "execution_count": 1,
   "id": "895ac3de-81f2-4448-ae70-0c54c87e4df9",
   "metadata": {},
   "outputs": [
    {
     "ename": "ModuleNotFoundError",
     "evalue": "No module named 'deafrica_tools'",
     "output_type": "error",
     "traceback": [
      "\u001b[1;31m---------------------------------------------------------------------------\u001b[0m",
      "\u001b[1;31mModuleNotFoundError\u001b[0m                       Traceback (most recent call last)",
      "Input \u001b[1;32mIn [1]\u001b[0m, in \u001b[0;36m<cell line: 5>\u001b[1;34m()\u001b[0m\n\u001b[0;32m      1\u001b[0m get_ipython()\u001b[38;5;241m.\u001b[39mrun_line_magic(\u001b[38;5;124m'\u001b[39m\u001b[38;5;124mmatplotlib\u001b[39m\u001b[38;5;124m'\u001b[39m, \u001b[38;5;124m'\u001b[39m\u001b[38;5;124minline\u001b[39m\u001b[38;5;124m'\u001b[39m)\n\u001b[0;32m      3\u001b[0m \u001b[38;5;28;01mimport\u001b[39;00m \u001b[38;5;21;01mdatacube\u001b[39;00m\n\u001b[1;32m----> 5\u001b[0m \u001b[38;5;28;01mfrom\u001b[39;00m \u001b[38;5;21;01mdeafrica_tools\u001b[39;00m\u001b[38;5;21;01m.\u001b[39;00m\u001b[38;5;21;01mdatahandling\u001b[39;00m \u001b[38;5;28;01mimport\u001b[39;00m mostcommon_crs\n\u001b[0;32m      6\u001b[0m \u001b[38;5;28;01mfrom\u001b[39;00m \u001b[38;5;21;01mdeafrica_tools\u001b[39;00m\u001b[38;5;21;01m.\u001b[39;00m\u001b[38;5;21;01mspatial\u001b[39;00m \u001b[38;5;28;01mimport\u001b[39;00m xr_vectorize, xr_rasterize\n",
      "\u001b[1;31mModuleNotFoundError\u001b[0m: No module named 'deafrica_tools'"
     ]
    }
   ],
   "source": [
    "%matplotlib inline\n",
    "\n",
    "import datacube\n",
    "\n",
    "from deafrica_tools.datahandling import mostcommon_crs\n",
    "from deafrica_tools.spatial import xr_vectorize, xr_rasterize"
   ]
  },
  {
   "cell_type": "code",
   "execution_count": 4,
   "id": "78f0363c-8264-4f20-946e-b226455dce11",
   "metadata": {},
   "outputs": [],
   "source": [
    "from osgeo import gdal, ogr\n",
    "import sys\n",
    "# this allows GDAL to throw Python Exceptions\n",
    "gdal.UseExceptions()"
   ]
  },
  {
   "cell_type": "code",
   "execution_count": 15,
   "id": "7b2d864a-5ed3-4f3c-868f-0f22e802f0bb",
   "metadata": {},
   "outputs": [
    {
     "name": "stdout",
     "output_type": "stream",
     "text": [
      "Band ( %i ) not found\n"
     ]
    }
   ],
   "source": [
    "#  get raster datasource\n",
    "#\n",
    "src_ds = gdal.Open( \"C:/Users/karasu/earth-analytics/data/ndwi_vl_04.tif\" )\n",
    "try:\n",
    "    srcband = src_ds.GetRasterBand(3)\n",
    "except RuntimeError:\n",
    "    # for example, try GetRasterBand(10)\n",
    "    print ('Band ( %i ) not found')"
   ]
  },
  {
   "cell_type": "code",
   "execution_count": 26,
   "id": "f5e2d624-ac3b-49c5-8d8c-90b89e0ba9da",
   "metadata": {},
   "outputs": [],
   "source": [
    "import os\n",
    "sourceRaster = gdal.Open(\"C:/Users/karasu/earth-analytics/data/ndwi_vl_04.tif\")\n",
    "band = sourceRaster.GetRasterBand(1)\n",
    "bandArray = band.ReadAsArray()\n",
    "outShapefile = \"polygonized\"\n",
    "driver = ogr.GetDriverByName(\"ESRI Shapefile\")\n",
    "if os.path.exists(outShapefile+\".shp\"):\n",
    "    driver.DeleteDataSource(outShapefile+\".shp\")\n",
    "outDatasource = driver.CreateDataSource(outShapefile+ \".shp\")\n",
    "outLayer = outDatasource.CreateLayer(\"polygonized\", srs=None)\n",
    "newField = ogr.FieldDefn('MYFLD', ogr.OFTInteger)\n",
    "outLayer.CreateField(newField)\n",
    "gdal.Polygonize( band, None, outLayer, 0, [], callback=None)\n",
    "outDatasource.Destroy()\n",
    "sourceRaster = None"
   ]
  },
  {
   "cell_type": "code",
   "execution_count": 28,
   "id": "f0d98a24-1062-4678-b690-3f074fc0b8ed",
   "metadata": {},
   "outputs": [
    {
     "data": {
      "text/plain": [
       "<AxesSubplot:>"
      ]
     },
     "execution_count": 28,
     "metadata": {},
     "output_type": "execute_result"
    },
    {
     "data": {
      "image/png": "[encoded data removed]",
      "text/plain": [
       "<Figure size 432x288 with 1 Axes>"
      ]
     },
     "metadata": {
      "needs_background": "light"
     },
     "output_type": "display_data"
    }
   ],
   "source": [
    "import geopandas as gp\n",
    "vec = gp.read_file('polygonized.shp')\n",
    "vec.plot()"
   ]
  },
  {
   "cell_type": "code",
   "execution_count": 37,
   "id": "f17ae3dc-3b5d-4e4e-84eb-5c0ebbfe4d45",
   "metadata": {},
   "outputs": [
    {
     "data": {
      "text/plain": [
       "<AxesSubplot:>"
      ]
     },
     "execution_count": 37,
     "metadata": {},
     "output_type": "execute_result"
    },
    {
     "data": {
      "image/png": "[encoded data removed]",
      "text/plain": [
       "<Figure size 432x288 with 1 Axes>"
      ]
     },
     "metadata": {
      "needs_background": "light"
     },
     "output_type": "display_data"
    }
   ],
   "source": [
    "water_vec = vec[vec['MYFLD'].isin([1])]\n",
    "water_vec.plot()"
   ]
  },
  {
   "cell_type": "code",
   "execution_count": null,
   "id": "0c719881-85c3-408c-8076-388f5113dfd1",
   "metadata": {},
   "outputs": [],
   "source": []
  }
 ],
 "metadata": {
  "kernelspec": {
   "display_name": "Python 3 (ipykernel)",
   "language": "python",
   "name": "python3"
  },
  "language_info": {
   "codemirror_mode": {
    "name": "ipython",
    "version": 3
   },
   "file_extension": ".py",
   "mimetype": "text/x-python",
   "name": "python",
   "nbconvert_exporter": "python",
   "pygments_lexer": "ipython3",
   "version": "3.10.4"
  }
 },
 "nbformat": 4,
 "nbformat_minor": 5
}
